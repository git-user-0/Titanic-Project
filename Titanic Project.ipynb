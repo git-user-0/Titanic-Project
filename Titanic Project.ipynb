{
 "cells": [
  {
   "cell_type": "markdown",
   "metadata": {},
   "source": [
    "# Predicting Titanic Survivors\n",
    "\n",
    "This is my attempt at predicting who survived the Titanic disaster. It is in response to the competition set on <a href=\"https://www.kaggle.com/c/titanic\" target=\"_blank\">kaggle</a>.\n",
    "\n",
    "It has enabled me to learn more about machine learning."
   ]
  },
  {
   "cell_type": "markdown",
   "metadata": {},
   "source": [
    "## Importing Libraries\n",
    "\n",
    "The first thing my program does is import the various libraries and functions I need."
   ]
  },
  {
   "cell_type": "code",
   "execution_count": 12,
   "metadata": {},
   "outputs": [],
   "source": [
    "import matplotlib.pyplot as plt\n",
    "import plotly.express as px\n",
    "import numpy as np\n",
    "import pandas as pd\n",
    "import category_encoders as ce\n",
    "import itertools\n",
    "\n",
    "from numpy import set_printoptions\n",
    "from pandas.plotting import scatter_matrix\n",
    "\n",
    "from sklearn.impute import SimpleImputer\n",
    "from sklearn.preprocessing import StandardScaler\n",
    "from sklearn.preprocessing import MinMaxScaler\n",
    "\n",
    "from sklearn.model_selection import train_test_split, cross_val_score, GridSearchCV\n",
    "\n",
    "from sklearn.feature_selection import SelectKBest, f_classif\n",
    "\n",
    "from sklearn import metrics\n",
    "from sklearn.metrics import accuracy_score\n",
    "from sklearn.metrics import classification_report\n",
    "from sklearn.metrics import confusion_matrix\n",
    "\n",
    "from sklearn.compose import ColumnTransformer\n",
    "from sklearn.pipeline import Pipeline\n",
    "from sklearn.decomposition import PCA\n",
    "\n",
    "from sklearn.neighbors import KNeighborsClassifier\n",
    "from sklearn.tree import DecisionTreeClassifier\n",
    "from sklearn.ensemble import RandomForestClassifier\n",
    "from sklearn.discriminant_analysis import LinearDiscriminantAnalysis\n",
    "from sklearn.naive_bayes import GaussianNB\n",
    "from sklearn.svm import SVC\n",
    "from xgboost import XGBClassifier"
   ]
  },
  {
   "cell_type": "markdown",
   "metadata": {},
   "source": [
    "## Setting up the Data Frames\n",
    "\n",
    "Next, I import the data and put them into X_full and y. X_full does not contain the 'Survived' column because the values in it are the ones I am trying to predict. These values are stored in y.\n",
    "\n",
    "I drop 'PassengerId' from X_full as I don't think the passenger Id numbers would have any connection to whether or not a person survived.\n",
    "\n",
    "Then, I split the data into a training set of 80% and a validation set of 20%. I do this before I preprocess the data so as to avoid any data leakage which would give me unreliable results."
   ]
  },
  {
   "cell_type": "code",
   "execution_count": 13,
   "metadata": {},
   "outputs": [],
   "source": [
    "# main\n",
    "# load the data\n",
    "data_set = pd.read_csv('/home/bodhi/Documents/Jupyter/Titanic/train.csv')\n",
    "\n",
    "# set up X_full and y\n",
    "X_full = data_set.drop(columns=['Survived', 'PassengerId']).copy()\n",
    "y = data_set.Survived.copy()\n",
    "\n",
    "# split the data\n",
    "X_train_full, X_valid_full, y_train, y_valid = train_test_split(X_full, y,\n",
    "                                                                test_size=0.2,\n",
    "                                                                random_state=1).copy()"
   ]
  },
  {
   "cell_type": "markdown",
   "metadata": {},
   "source": [
    "## Deal With Preprocessing of Data\n",
    "\n",
    "Next, I set up pipelines to deal with the preprocessing of categorical and numerical features.\n",
    "\n",
    "The categorical features have Nan types filled with the most frequent value before they are count-encoded.\n",
    "\n",
    "The numerical features have Nan types filled with the median value of their column before they are standardized and normalized.\n",
    "\n",
    "I also create an initial model and put it into a pipeline."
   ]
  },
  {
   "cell_type": "code",
   "execution_count": 14,
   "metadata": {},
   "outputs": [],
   "source": [
    "# select numerical columns which need to be preprocessed\n",
    "numerical_cols = [cname for cname in X_train_full.columns if\n",
    "                 X_train_full[cname].dtype in ['int64', 'float64']\n",
    "                 ]\n",
    "\n",
    "# select categorical columns which need to be preprocessed\n",
    "categorical_cols = [cname for cname in X_train_full.columns\n",
    "                  if X_train_full[cname].nunique() < 10 and\n",
    "                  X_train_full[cname].dtype == 'object'\n",
    "                   ]\n",
    "\n",
    "# preprocessing for categorical data\n",
    "categorical_transformer = Pipeline(steps=[\n",
    "    ('imputer', SimpleImputer(strategy='most_frequent')),\n",
    "    ('count_enc', ce.CountEncoder())\n",
    "]\n",
    "                                  )\n",
    "\n",
    "# preprocessing for numerical data\n",
    "numerical_transformer = Pipeline(steps=[\n",
    "    ('imputer', SimpleImputer(strategy='median')),\n",
    "    ('standardize', StandardScaler()),\n",
    "    ('normalize', MinMaxScaler())\n",
    "]\n",
    "                                   )\n",
    "\n",
    "# set up the initial model\n",
    "model = XGBClassifier()\n",
    "\n",
    "# put the model into a pipeline\n",
    "pipe = Pipeline(steps=[('model', model)\n",
    "                      ]\n",
    "               )"
   ]
  },
  {
   "cell_type": "markdown",
   "metadata": {},
   "source": [
    "## Transforming the Training Data\n",
    "\n",
    "Now, I use a function to transform the training data. This function uses the pipelines created earlier to preprocess the categorical and numerical features found in the training data.\n",
    "\n",
    "The function uses a parameter to recognise if it is working on the training data or not. If it is working on the training data, it fits the preprocessing pipelines to the data before transforming it.\n",
    "\n",
    "If it is not working on the training data, it must be working on the validation or test data. This means that it only transforms the data using the pipelines which have been fitted to the training data. This is to eliminate data leakage."
   ]
  },
  {
   "cell_type": "code",
   "execution_count": 15,
   "metadata": {},
   "outputs": [],
   "source": [
    "def transform(df, split):\n",
    "    # impute missing categorical data and count encode it\n",
    "    set_cats = pd.DataFrame(df[categorical_cols])\n",
    "    if split == 'train':\n",
    "        set_cats = categorical_transformer.fit_transform(set_cats)\n",
    "    else:\n",
    "        set_cats = categorical_transformer.transform(set_cats)\n",
    "    set_cats.columns = categorical_cols\n",
    "    set_cats.index = df.index\n",
    "    \n",
    "    # impute missing numerical data\n",
    "    imputed_df_nums = pd.DataFrame(df[numerical_cols])\n",
    "    if split == 'train':\n",
    "        imputed_df_nums = numerical_transformer.fit_transform(imputed_df_nums)\n",
    "    else:\n",
    "        imputed_df_nums = numerical_transformer.transform(imputed_df_nums)\n",
    "    imputed_df_nums = pd.DataFrame(imputed_df_nums, columns=[numerical_cols])\n",
    "    imputed_df_nums.index = df.index\n",
    "\n",
    "    # create a new data frame using the transformed training data\n",
    "    frames = [set_cats, imputed_df_nums]\n",
    "    baseline = set_cats.join(imputed_df_nums, how='inner')\n",
    "    return baseline\n",
    "\n",
    "# transform the training data with imputation and count encoding\n",
    "baseline_train = transform(X_train_full, 'train')"
   ]
  },
  {
   "cell_type": "markdown",
   "metadata": {},
   "source": [
    "## Create New Interactions\n",
    "\n",
    "Next, new interactions are created by combining each categorical feature with another categorical feature.\n",
    "\n",
    "The new interactions are joined to the original data frame."
   ]
  },
  {
   "cell_type": "code",
   "execution_count": 16,
   "metadata": {},
   "outputs": [],
   "source": [
    "def get_interactions(baseline):\n",
    "    # create interactions by combining categorical features\n",
    "    interactions = pd.DataFrame(index=baseline.index)\n",
    "    for col1, col2 in itertools.combinations(categorical_cols, 2):\n",
    "        new_col_name = '_'.join([col1, col2])\n",
    "        # combine\n",
    "        new_values = baseline[col1] - baseline[col2]\n",
    "        interactions[new_col_name] = new_values\n",
    "    return interactions\n",
    "\n",
    "# create new interactions\n",
    "new_features = get_interactions(baseline_train)\n",
    "\n",
    "# combine the transformed numerical and categorical data\n",
    "baseline_train = baseline_train.join(new_features)"
   ]
  },
  {
   "cell_type": "markdown",
   "metadata": {},
   "source": [
    "## Finding the Best Features\n",
    "\n",
    "Now, we find the best number of features using SelectKBest. Linear relationships gave better results than when I included non-linear ones, so I use f_classif.\n",
    "\n",
    "This part of the program returns the smallest number for k which has the best score.\n",
    "\n",
    "A new data frame is created (X_train_best) which only uses the best features (as found using SelectKBest)."
   ]
  },
  {
   "cell_type": "code",
   "execution_count": 17,
   "metadata": {},
   "outputs": [],
   "source": [
    "def get_best(k):\n",
    "    # keep best features\n",
    "    selector = SelectKBest(f_classif, k=k)\n",
    "    X_new = selector.fit_transform(baseline_train, y_train)\n",
    "    \n",
    "    # get back the best features and zero out all the others\n",
    "    selected_features = pd.DataFrame(selector.inverse_transform(X_new),\n",
    "                                     index=baseline_train.index,\n",
    "                                     columns=feature_cols)\n",
    "\n",
    "    # features other than the best ones have values of 0s, so var is 0 - drop them\n",
    "    selected_columns = selected_features.columns[selected_features.var() != 0]\n",
    "    return selected_columns\n",
    "\n",
    "def get_k():\n",
    "    k = 1\n",
    "    results = []\n",
    "    while k <= 7:\n",
    "        best_columns = get_best(k)\n",
    "        test_best = baseline_train[best_columns].copy()\n",
    "        results.append(cross_val_score(pipe, test_best, y_train, scoring='accuracy').mean())\n",
    "        k+=1\n",
    "    return (results.index(max(results))) + 1\n",
    "\n",
    "# find the best number of features (k)\n",
    "feature_cols = baseline_train.columns\n",
    "k = get_k()\n",
    "\n",
    "# find the best features\n",
    "best_columns = get_best(k)\n",
    "\n",
    "# create an X_train set of data which uses only the best features\n",
    "X_train_best = baseline_train[best_columns]"
   ]
  },
  {
   "cell_type": "markdown",
   "metadata": {},
   "source": [
    "## Preparing the Validation Data\n",
    "\n",
    "The validation part of the original data is now preprocessed and new interactions are found for it. A new data frame is created (X_valid_best) which only uses the best features (as found using SelectKBest on the training data earlier)."
   ]
  },
  {
   "cell_type": "code",
   "execution_count": 18,
   "metadata": {},
   "outputs": [],
   "source": [
    "# transform the validation data with imputation and count encoding\n",
    "baseline_valid = transform(X_valid_full, 'valid')\n",
    "\n",
    "# create new interactions\n",
    "new_features_valid = get_interactions(baseline_valid)\n",
    "\n",
    "# combine the transformed numerical and categorical data\n",
    "baseline_valid = baseline_valid.join(new_features_valid)\n",
    "\n",
    "# create an X_valid set of data which uses only the best features\n",
    "X_valid_best = baseline_valid[best_columns]"
   ]
  },
  {
   "cell_type": "markdown",
   "metadata": {},
   "source": [
    "## Spot Check Algorithms\n",
    "\n",
    "We are now ready to spot-check linear, non-linear and ensemble classifiers. The mean results are printed along with the standard deviation.\n",
    "\n",
    "To make the performances easier to understand, a box-plot is created."
   ]
  },
  {
   "cell_type": "code",
   "execution_count": 19,
   "metadata": {},
   "outputs": [
    {
     "name": "stdout",
     "output_type": "stream",
     "text": [
      "LDA: 0.796405 (0.020735)\n",
      "KNN-: 0.799222 (0.023184)\n",
      "CART: 0.754309 (0.030597)\n",
      "RF: 0.823146 (0.039057)\n",
      "XGB: 0.828721 (0.025663)\n",
      "SVM: 0.613799 (0.016887)\n"
     ]
    },
    {
     "data": {
      "image/png": "[encoded data removed]",
      "text/plain": [
       "<Figure size 432x288 with 1 Axes>"
      ]
     },
     "metadata": {
      "needs_background": "light"
     },
     "output_type": "display_data"
    }
   ],
   "source": [
    "def get_models(models=[]):\n",
    "    # linear models\n",
    "    models.append(('LDA', LinearDiscriminantAnalysis()))\n",
    "    \n",
    "    # non-linear models\n",
    "    models.append(('KNN-', KNeighborsClassifier()))\n",
    "    models.append(('CART', DecisionTreeClassifier()))\n",
    "    \n",
    "    # ensemble models\n",
    "    models.append(('RF', RandomForestClassifier()))\n",
    "    models.append(('XGB', XGBClassifier()))\n",
    "    models.append(('SVM', SVC()))\n",
    "    \n",
    "    return models\n",
    "\n",
    "def spot_check():\n",
    "    models = get_models()\n",
    "    # evaluate each model in turn\n",
    "    results = []\n",
    "    names = []\n",
    "    for name, classifier in models:\n",
    "        pipe.set_params(model = classifier)\n",
    "        cv_results = cross_val_score(pipe, X_train_best, y_train,scoring='accuracy')\n",
    "        results.append(cv_results)\n",
    "        names.append(name)\n",
    "        msg = '%s: %f (%f)' % (name, cv_results.mean(), cv_results.std())\n",
    "        print(msg)\n",
    "        \n",
    "    # plot model performance for comparison\n",
    "    plt.boxplot(results, labels=names, showmeans=True)\n",
    "    plt.show()\n",
    "    \n",
    "# spot-check algorithms and show performances\n",
    "spot_check()"
   ]
  },
  {
   "cell_type": "markdown",
   "metadata": {},
   "source": [
    "## Grid Search\n",
    "\n",
    "I continue to use XGBoost as it performs the best on the training data.\n",
    "\n",
    "Using grid search, I hyper-tune some basic parameters.\n",
    "\n",
    "The best model is created using the best values found for the basic parameters."
   ]
  },
  {
   "cell_type": "markdown",
   "metadata": {},
   "source": [
    "## Test the Best Model on the Validation Data\n",
    "\n",
    "The best model is then used to make predictions about the validation data and an accuracy score returned."
   ]
  },
  {
   "cell_type": "markdown",
   "metadata": {},
   "source": [
    "## Load the Test Data and Make the Final Predictions\n",
    "\n",
    "Next, the test data is loaded and preprocessed. New interactions are created and the best model uses the best features to make predictions for the test data.\n",
    "\n",
    "Finally, the predictions are turned into an excel file and saved."
   ]
  },
  {
   "cell_type": "code",
   "execution_count": 21,
   "metadata": {},
   "outputs": [
    {
     "name": "stdout",
     "output_type": "stream",
     "text": [
      "Tuning...\n",
      "{'model__learning_rate': 0.1, 'model__n_estimators': 500}\n",
      "\n",
      "Best Model Accuracy Score: 0.7932960893854749\n",
      "Saved!\n"
     ]
    }
   ],
   "source": [
    "def grid_search():\n",
    "    print('Tuning...')\n",
    "    pipe.set_params(model=XGBClassifier())\n",
    "    param_grid = dict(model__learning_rate=[0.1],\n",
    "                      model__n_estimators=[500]\n",
    "                     )\n",
    "    grid = GridSearchCV(pipe,\n",
    "                        param_grid=param_grid,\n",
    "                        cv=3,\n",
    "                        scoring='accuracy')\n",
    "    grid.fit(X_train_best, y_train)\n",
    "    print(grid.best_params_)\n",
    "    return grid\n",
    "\n",
    "# search for the best parameters using gridsearch and\n",
    "# create the best model using the best parameters\n",
    "grid = grid_search()\n",
    "\n",
    "best_learning = grid.best_params_['model__learning_rate']\n",
    "best_estimators = grid.best_params_['model__n_estimators']\n",
    "\n",
    "pipe.set_params(model=XGBClassifier(learning_rate=best_learning,\n",
    "                                   n_estimators=best_estimators\n",
    "                                   )\n",
    "               )\n",
    "\n",
    "# use the best model to make a prediciton on validation data\n",
    "best_model = pipe.fit(X_train_best, y_train)\n",
    "y_pred = best_model.predict(X_valid_best)\n",
    "print('\\nBest Model Accuracy Score:', metrics.accuracy_score(y_valid, y_pred))\n",
    "\n",
    "# load the new data\n",
    "mystery_data_set = pd.read_csv('/home/bodhi/Documents/Jupyter/Titanic/test_4.csv')\n",
    "\n",
    "mx = mystery_data_set.copy()\n",
    "\n",
    "# transform the training data with imputation and count encoding\n",
    "baseline_test = transform(mx, 'test')\n",
    "\n",
    "# create new interactions\n",
    "new_features = get_interactions(baseline_test)\n",
    "\n",
    "# combine the transformed numerical and categorical data\n",
    "baseline_test = baseline_test.join(new_features)\n",
    "\n",
    "# create an X_test set of data which uses only the best features\n",
    "X_test_best = baseline_test[best_columns]\n",
    "\n",
    "# predict the final values\n",
    "preds = best_model.predict(X_test_best)\n",
    "\n",
    "# load the submission information\n",
    "my_solution = pd.DataFrame({'PassengerId':mystery_data_set['PassengerId'],\n",
    "                                'Survived':preds})\n",
    "\n",
    "my_solution.to_excel('/home/bodhi/Documents/Jupyter/Titanic/tt_2.xls')\n",
    "print('Saved!')"
   ]
  },
  {
   "cell_type": "markdown",
   "metadata": {},
   "source": [
    "## Results?\n",
    "\n",
    "I submitted the predictions to the <a href=\"https://www.kaggle.com/c/titanic\" target=\"_blank\">kaggle</a> competition and scored:\n",
    "\n",
    "0.76076"
   ]
  },
  {
   "cell_type": "markdown",
   "metadata": {},
   "source": [
    "## Improving Accuracy\n",
    "\n",
    "I think that the best way to improve accuracy would be to look again at the data. I have noticed that the feature 'Parch' combines data about whether or not a passenger had any parents or children. I think these data would be better if they were seperated. In order to do this, I will need to do some online research. It might increase the accuracy of my program!"
   ]
  },
  {
   "cell_type": "code",
   "execution_count": null,
   "metadata": {},
   "outputs": [],
   "source": []
  }
 ],
 "metadata": {
  "kernelspec": {
   "display_name": "Python 3",
   "language": "python",
   "name": "python3"
  },
  "language_info": {
   "codemirror_mode": {
    "name": "ipython",
    "version": 3
   },
   "file_extension": ".py",
   "mimetype": "text/x-python",
   "name": "python",
   "nbconvert_exporter": "python",
   "pygments_lexer": "ipython3",
   "version": "3.7.6"
  }
 },
 "nbformat": 4,
 "nbformat_minor": 4
}
